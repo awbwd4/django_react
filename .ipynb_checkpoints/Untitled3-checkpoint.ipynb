{
 "cells": [
  {
   "cell_type": "code",
   "execution_count": 1,
   "id": "9cb4e492",
   "metadata": {},
   "outputs": [],
   "source": [
    "import os\n",
    "os.environ['DJANGO_SETTINGS_MODULE'] = 'config.settings'\n",
    "os.environ['DJANGO_ALLOW_ASYNC_UNSAFE'] = 'true'\n",
    "\n",
    "import django\n",
    "django.setup()"
   ]
  },
  {
   "cell_type": "code",
   "execution_count": 2,
   "id": "cb58e7c8",
   "metadata": {},
   "outputs": [],
   "source": [
    "from accounts.models import Profile"
   ]
  },
  {
   "cell_type": "code",
   "execution_count": 3,
   "id": "471fd63a",
   "metadata": {},
   "outputs": [
    {
     "data": {
      "text/plain": [
       "<Profile: Profile object (1)>"
      ]
     },
     "execution_count": 3,
     "metadata": {},
     "output_type": "execute_result"
    }
   ],
   "source": [
    "Profile.objects.first()"
   ]
  },
  {
   "cell_type": "code",
   "execution_count": 4,
   "id": "f7706983",
   "metadata": {},
   "outputs": [
    {
     "data": {
      "text/plain": [
       "<User: mac>"
      ]
     },
     "execution_count": 4,
     "metadata": {},
     "output_type": "execute_result"
    }
   ],
   "source": [
    "profile = Profile.objects.first()\n",
    "profile.user"
   ]
  },
  {
   "cell_type": "code",
   "execution_count": 10,
   "id": "c46f5013",
   "metadata": {},
   "outputs": [
    {
     "data": {
      "text/plain": [
       "(1, {'accounts.Profile': 1})"
      ]
     },
     "execution_count": 10,
     "metadata": {},
     "output_type": "execute_result"
    }
   ],
   "source": [
    "# profile.delete()"
   ]
  },
  {
   "cell_type": "code",
   "execution_count": 16,
   "id": "0f255210",
   "metadata": {},
   "outputs": [],
   "source": [
    "# from django.contrib.auth.models import User\n",
    "from django.contrib.auth import get_user_model # 현재 활성화 돼 있는 User 모델\n",
    "User = get_user_model()\n",
    "user = User.objects.first()"
   ]
  },
  {
   "cell_type": "code",
   "execution_count": 17,
   "id": "57d2ec90",
   "metadata": {},
   "outputs": [
    {
     "data": {
      "text/plain": [
       "<Profile: Profile object (2)>"
      ]
     },
     "execution_count": 17,
     "metadata": {},
     "output_type": "execute_result"
    }
   ],
   "source": [
    "user.profile"
   ]
  },
  {
   "cell_type": "code",
   "execution_count": 18,
   "id": "55eb6dd7",
   "metadata": {},
   "outputs": [
    {
     "data": {
      "text/plain": [
       "<Profile: Profile object (2)>"
      ]
     },
     "execution_count": 18,
     "metadata": {},
     "output_type": "execute_result"
    }
   ],
   "source": [
    "Profile.objects.get(user=user)"
   ]
  }
 ],
 "metadata": {
  "kernelspec": {
   "display_name": "Python 3 (ipykernel)",
   "language": "python",
   "name": "python3"
  },
  "language_info": {
   "codemirror_mode": {
    "name": "ipython",
    "version": 3
   },
   "file_extension": ".py",
   "mimetype": "text/x-python",
   "name": "python",
   "nbconvert_exporter": "python",
   "pygments_lexer": "ipython3",
   "version": "3.8.9"
  }
 },
 "nbformat": 4,
 "nbformat_minor": 5
}
