{
 "cells": [
  {
   "cell_type": "code",
   "execution_count": null,
   "id": "ed5e1e74",
   "metadata": {},
   "outputs": [],
   "source": [
    "import os\n",
    "os.environ['DJANGO_SETTINGS_MODULE'] = 'config.settings'\n",
    "os.environ['DJANGO_ALLOW_ASYNC_UNSAFE'] = 'true'\n",
    "\n",
    "import django\n",
    "django.setup()"
   ]
  },
  {
   "cell_type": "code",
   "execution_count": null,
   "id": "9082fefc",
   "metadata": {},
   "outputs": [],
   "source": [
    "from accounts.models import Profile"
   ]
  },
  {
   "cell_type": "code",
   "execution_count": null,
   "id": "9dc76ec2",
   "metadata": {},
   "outputs": [],
   "source": [
    "Profile.objects.first()"
   ]
  },
  {
   "cell_type": "code",
   "execution_count": null,
   "id": "8efda26f",
   "metadata": {},
   "outputs": [],
   "source": [
    "profile = Profile.objects.first()\n",
    "profile.user"
   ]
  },
  {
   "cell_type": "code",
   "execution_count": null,
   "id": "94d2cdf3",
   "metadata": {},
   "outputs": [],
   "source": [
    "# profile.delete()"
   ]
  },
  {
   "cell_type": "code",
   "execution_count": null,
   "id": "a526abad",
   "metadata": {},
   "outputs": [],
   "source": [
    "# from django.contrib.auth.models import User\n",
    "from django.contrib.auth import get_user_model # 현재 활성화 돼 있는 User 모델\n",
    "User = get_user_model()\n",
    "user = User.objects.first()"
   ]
  },
  {
   "cell_type": "code",
   "execution_count": null,
   "id": "7685833d",
   "metadata": {},
   "outputs": [],
   "source": [
    "user.profile"
   ]
  },
  {
   "cell_type": "code",
   "execution_count": null,
   "id": "18eccea4",
   "metadata": {},
   "outputs": [],
   "source": [
    "Profile.objects.get(user=user)"
   ]
  }
 ],
 "metadata": {
  "kernelspec": {
   "display_name": "Python 3 (ipykernel)",
   "language": "python",
   "name": "python3"
  },
  "language_info": {
   "codemirror_mode": {
    "name": "ipython",
    "version": 3
   },
   "file_extension": ".py",
   "mimetype": "text/x-python",
   "name": "python",
   "nbconvert_exporter": "python",
   "pygments_lexer": "ipython3",
   "version": "3.8.9"
  }
 },
 "nbformat": 4,
 "nbformat_minor": 5
}
